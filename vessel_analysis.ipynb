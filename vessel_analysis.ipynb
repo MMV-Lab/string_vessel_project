{
 "cells": [
  {
   "cell_type": "markdown",
   "metadata": {},
   "source": [
    "<h2>3D Analysis</h2>\n",
    "\n",
    "Let’s run the 3D Vessel Analysis\n",
    "\n",
    "Parameter Selection:\n",
    "\n",
    "For the <b>Vessel Analysis Parameters</b>:<br><br>\n",
    "\n",
    "Please ensure that the Pixel Dimension is set correctly.<br>\n",
    "\n",
    "For all other parameters, please refer to the [paper](https://www.cell.com/cell-reports-methods/pdf/S2667-2375(23)00051-6.pdf), specifically Table 1 on page 4.<br><br>\n",
    "\n",
    "<b>Input/Output Paths</b>:<br><br>\n",
    "\n",
    "   <b>Input Path</b>:<br>\n",
    "   This refers to the location of your segmentation results provided to the model.<br>\n",
    "\n",
    "   <b>Output Path</b>:<br> \n",
    "   In this analysis, one or two sets of “raw” statistics will be generated for each file. If valid string vessels are detected, two statistics files will be produced: one for all vessels and one specifically for string vessels. If no valid string vessels are detected, only one statistics file for all vessels will be generated. Additionally, a summary CSV file will be created. Please specify the path to save the “raw” statistics as well as the filename for the summary CSV.\n",
    "\n",
    "  "
   ]
  },
  {
   "cell_type": "code",
   "execution_count": 1,
   "metadata": {},
   "outputs": [
    {
     "data": {
      "application/vnd.jupyter.widget-view+json": {
       "model_id": "b169c5d77d914a0ba33ed96f1cdf406d",
       "version_major": 2,
       "version_minor": 0
      },
      "text/plain": [
       "VBox(children=(HTML(value='<b>Vessel Analysis Parameters</b>'), Text(value='1.0, 1.0, 1.0', description='Pixel…"
      ]
     },
     "metadata": {},
     "output_type": "display_data"
    }
   ],
   "source": [
    "from core.analysis import analysis_menu\n",
    "analysis_menu()"
   ]
  },
  {
   "cell_type": "code",
   "execution_count": null,
   "metadata": {},
   "outputs": [],
   "source": []
  }
 ],
 "metadata": {
  "kernelspec": {
   "display_name": "Python 3 (ipykernel)",
   "language": "python",
   "name": "python3"
  },
  "language_info": {
   "codemirror_mode": {
    "name": "ipython",
    "version": 3
   },
   "file_extension": ".py",
   "mimetype": "text/x-python",
   "name": "python",
   "nbconvert_exporter": "python",
   "pygments_lexer": "ipython3",
   "version": "3.11.13"
  },
  "vscode": {
   "interpreter": {
    "hash": "f0a6b497edbe280d9c9c3fe7b26d28e91277df791e6ef10dec6644aa4f1f4e76"
   }
  }
 },
 "nbformat": 4,
 "nbformat_minor": 2
}
